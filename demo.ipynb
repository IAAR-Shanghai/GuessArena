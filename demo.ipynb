{
 "cells": [
  {
   "cell_type": "code",
   "execution_count": 1,
   "metadata": {},
   "outputs": [
    {
     "name": "stdout",
     "output_type": "stream",
     "text": [
      "--------------------\n",
      "Claude_3_5_Sonnet\n",
      "content=\" I'm Claude, an AI assistant created by Anthropic. I aim to be direct, helpful, and honest in our interactions. I can help with all sorts of tasks - from analysis and coding to creative writing and general discussion. What would you like help with?\" additional_kwargs={'refusal': None} response_metadata={'token_usage': {'completion_tokens': 53, 'prompt_tokens': 11, 'total_tokens': 64, 'completion_tokens_details': None, 'prompt_tokens_details': None}, 'model_name': 'claude-3-5-sonnet-20241022', 'system_fingerprint': None, 'finish_reason': 'stop', 'logprobs': None} id='run-7574e615-c193-46b9-8d09-24f6fc16828c-0' usage_metadata={'input_tokens': 11, 'output_tokens': 53, 'total_tokens': 64, 'input_token_details': {}, 'output_token_details': {}}\n",
      "--------------------\n",
      "GPT_4o\n",
      "content=\"I am ChatGPT, an AI language model created by OpenAI. I'm here to help answer your questions and provide information on a wide range of topics. How can I assist you today?\" additional_kwargs={'refusal': None} response_metadata={'token_usage': {'completion_tokens': 39, 'prompt_tokens': 11, 'total_tokens': 50, 'completion_tokens_details': {'accepted_prediction_tokens': 0, 'audio_tokens': 0, 'reasoning_tokens': 0, 'rejected_prediction_tokens': 0}, 'prompt_tokens_details': {'audio_tokens': 0, 'cached_tokens': 0}}, 'model_name': 'gpt-4o-2024-08-06', 'system_fingerprint': 'fp_ff092ab25e', 'finish_reason': 'stop', 'logprobs': None} id='run-fc2591c0-20ec-4e73-939b-e14aa2868fa7-0' usage_metadata={'input_tokens': 11, 'output_tokens': 39, 'total_tokens': 50, 'input_token_details': {'audio': 0, 'cache_read': 0}, 'output_token_details': {'audio': 0, 'reasoning': 0}}\n",
      "--------------------\n",
      "DeepSeek_V3\n",
      "content='I’m an AI language model created by OpenAI, designed to assist with answering questions, providing explanations, generating ideas, and helping with a wide range of tasks. You can think of me as a conversational tool that uses machine learning to understand and respond to text-based queries. How can I assist you today?' additional_kwargs={'refusal': None} response_metadata={'token_usage': {'completion_tokens': 62, 'prompt_tokens': 7, 'total_tokens': 69, 'completion_tokens_details': {'accepted_prediction_tokens': 0, 'audio_tokens': 0, 'reasoning_tokens': 0, 'rejected_prediction_tokens': 0, 'cached_tokens': 0}, 'prompt_tokens_details': {'audio_tokens': 0, 'cached_tokens': 0, 'reasoning_tokens': 0, 'accepted_prediction_tokens': 0, 'rejected_prediction_tokens': 0}}, 'model_name': 'deepseek-v3-241226', 'system_fingerprint': 'fp_00215a42', 'finish_reason': 'stop', 'logprobs': None} id='run-4d56c2b6-5361-424d-bc7a-29845cc54b8c-0' usage_metadata={'input_tokens': 7, 'output_tokens': 62, 'total_tokens': 69, 'input_token_details': {'audio': 0, 'cache_read': 0}, 'output_token_details': {'audio': 0, 'reasoning': 0}}\n",
      "--------------------\n",
      "Qwen_2_5_72B_Instruct\n",
      "content='I am Qwen, a large language model created by Alibaba Cloud. I am designed to assist users in generating various types of text, such as articles, stories, poems, and more, as well as answering questions and providing information on a wide range of topics. How can I assist you today?' additional_kwargs={'refusal': None} response_metadata={'token_usage': {'completion_tokens': 60, 'prompt_tokens': 33, 'total_tokens': 93, 'completion_tokens_details': None, 'prompt_tokens_details': None}, 'model_name': 'Qwen/Qwen2.5-72B-Instruct', 'system_fingerprint': '', 'finish_reason': 'stop', 'logprobs': None} id='run-e2c8ae5e-5d5b-4a2b-8976-dcbb7b717b41-0' usage_metadata={'input_tokens': 33, 'output_tokens': 60, 'total_tokens': 93, 'input_token_details': {}, 'output_token_details': {}}\n",
      "--------------------\n",
      "Qwen_2_5_32B_Instruct\n",
      "content='I am Qwen, a large language model created by Alibaba Cloud to assist and communicate with users, providing help and information on a wide range of topics. How can I assist you today?' additional_kwargs={'refusal': None} response_metadata={'token_usage': {'completion_tokens': 38, 'prompt_tokens': 33, 'total_tokens': 71, 'completion_tokens_details': None, 'prompt_tokens_details': None}, 'model_name': 'Qwen/Qwen2.5-32B-Instruct', 'system_fingerprint': '', 'finish_reason': 'stop', 'logprobs': None} id='run-b60cd5e6-c9ac-4a37-918e-3ccc27e703a1-0' usage_metadata={'input_tokens': 33, 'output_tokens': 38, 'total_tokens': 71, 'input_token_details': {}, 'output_token_details': {}}\n",
      "--------------------\n",
      "Qwen_2_5_7B_Instruct\n",
      "content='I am Qwen, a large language model created by Alibaba Cloud. I am here to assist with a wide range of tasks, from providing information and answering questions to helping with writing and more. How can I assist you today?' additional_kwargs={'refusal': None} response_metadata={'token_usage': {'completion_tokens': 46, 'prompt_tokens': 33, 'total_tokens': 79, 'completion_tokens_details': None, 'prompt_tokens_details': None}, 'model_name': 'Qwen/Qwen2.5-7B-Instruct', 'system_fingerprint': '', 'finish_reason': 'stop', 'logprobs': None} id='run-081165cb-157a-42a7-ae51-8bbc3468568f-0' usage_metadata={'input_tokens': 33, 'output_tokens': 46, 'total_tokens': 79, 'input_token_details': {}, 'output_token_details': {}}\n",
      "--------------------\n",
      "Llama_3_3_70B_Instruct\n",
      "content='I\\'m an artificial intelligence model known as Llama. Llama stands for \"Large Language Model Meta AI.\"' additional_kwargs={'refusal': None} response_metadata={'token_usage': {'completion_tokens': 22, 'prompt_tokens': 39, 'total_tokens': 61, 'completion_tokens_details': None, 'prompt_tokens_details': None}, 'model_name': 'meta-llama/Llama-3.3-70B-Instruct', 'system_fingerprint': '', 'finish_reason': 'stop', 'logprobs': None} id='run-e8423321-7b61-4c24-924f-794efbe9d158-0' usage_metadata={'input_tokens': 39, 'output_tokens': 22, 'total_tokens': 61, 'input_token_details': {}, 'output_token_details': {}}\n"
     ]
    }
   ],
   "source": [
    "from langchain_openai import ChatOpenAI\n",
    "import configparser\n",
    "\n",
    "config = configparser.ConfigParser()\n",
    "config.read('./configs/models.ini')\n",
    "\n",
    "common_params = {\n",
    "    'max_tokens': config.getint('common_params', 'max_tokens'),\n",
    "    'temperature': config.getfloat('common_params', 'temperature')\n",
    "}\n",
    "\n",
    "model_configs = [section for section in config.sections() if section != 'common_params']\n",
    "\n",
    "for model in model_configs:\n",
    "    model_name = model\n",
    "    model_info = {\n",
    "        'model': config.get(model, 'model'),\n",
    "        'base_url': config.get(model, 'base_url'),\n",
    "        'api_key': config.get(model, 'api_key')\n",
    "    }\n",
    "    \n",
    "    chat = ChatOpenAI(\n",
    "        model = model_info['model'],\n",
    "        base_url = model_info['base_url'],\n",
    "        api_key = model_info['api_key'],\n",
    "        **common_params\n",
    "    )\n",
    "    print(\"--------------------\")\n",
    "    print(model_name)\n",
    "    print(chat.invoke('who are you?'))"
   ]
  },
  {
   "cell_type": "code",
   "execution_count": 22,
   "metadata": {},
   "outputs": [],
   "source": [
    "tester = ChatOpenAI(\n",
    "    model = config['GPT_4o']['model'],\n",
    "    base_url = config['GPT_4o']['base_url'],\n",
    "    api_key = config['GPT_4o']['api_key'],\n",
    "    **common_params\n",
    ")\n",
    "\n",
    "testee = ChatOpenAI(\n",
    "    model = config['GPT_4o']['model'],\n",
    "    base_url = config['GPT_4o']['base_url'],\n",
    "    api_key = config['GPT_4o']['api_key'],\n",
    "    **common_params\n",
    ")"
   ]
  }
 ],
 "metadata": {
  "kernelspec": {
   "display_name": "gwia",
   "language": "python",
   "name": "python3"
  },
  "language_info": {
   "codemirror_mode": {
    "name": "ipython",
    "version": 3
   },
   "file_extension": ".py",
   "mimetype": "text/x-python",
   "name": "python",
   "nbconvert_exporter": "python",
   "pygments_lexer": "ipython3",
   "version": "3.10.14"
  }
 },
 "nbformat": 4,
 "nbformat_minor": 2
}
